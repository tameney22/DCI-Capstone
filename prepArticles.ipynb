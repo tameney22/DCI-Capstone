{
 "cells": [
  {
   "cell_type": "markdown",
   "metadata": {},
   "source": [
    "# Prepping Data for Preprocessing\n",
    "The purpose of this notebook is to perform some exploratory data analysis to determine which publications to use for training and testing the model. The output will be a csv file that consists of the publication title and file location of the 15,000 articles to be used.\n",
    "\n",
    "## Importing Data"
   ]
  },
  {
   "cell_type": "code",
   "execution_count": 1,
   "metadata": {},
   "outputs": [],
   "source": [
    "import pandas as pd\n",
    "\n",
    "df = pd.read_excel(\"19thCenturyUSNewspapers.xlsx\")\n",
    "df.dropna(inplace=True) # dropped metadata rows"
   ]
  },
  {
   "cell_type": "markdown",
   "metadata": {},
   "source": [
    "### Top 10 Publications \n",
    "The goal is to determine the top 10 publications by number of articles published."
   ]
  },
  {
   "cell_type": "code",
   "execution_count": 2,
   "metadata": {},
   "outputs": [
    {
     "data": {
      "text/html": [
       "<div>\n",
       "<style scoped>\n",
       "    .dataframe tbody tr th:only-of-type {\n",
       "        vertical-align: middle;\n",
       "    }\n",
       "\n",
       "    .dataframe tbody tr th {\n",
       "        vertical-align: top;\n",
       "    }\n",
       "\n",
       "    .dataframe thead th {\n",
       "        text-align: right;\n",
       "    }\n",
       "</style>\n",
       "<table border=\"1\" class=\"dataframe\">\n",
       "  <thead>\n",
       "    <tr style=\"text-align: right;\">\n",
       "      <th></th>\n",
       "      <th>PublicationTitle</th>\n",
       "      <th>NumArticles</th>\n",
       "    </tr>\n",
       "  </thead>\n",
       "  <tbody>\n",
       "    <tr>\n",
       "      <th>378</th>\n",
       "      <td>National Intelligencer (Washington, DC)</td>\n",
       "      <td>19495</td>\n",
       "    </tr>\n",
       "    <tr>\n",
       "      <th>329</th>\n",
       "      <td>North American (Philadelphia, PA)</td>\n",
       "      <td>19371</td>\n",
       "    </tr>\n",
       "    <tr>\n",
       "      <th>330</th>\n",
       "      <td>Milwaukee Daily Sentinel (Milwaukee, WI)</td>\n",
       "      <td>17466</td>\n",
       "    </tr>\n",
       "    <tr>\n",
       "      <th>54</th>\n",
       "      <td>Bangor Daily Whig and Courier (Bangor, ME)</td>\n",
       "      <td>15794</td>\n",
       "    </tr>\n",
       "    <tr>\n",
       "      <th>394</th>\n",
       "      <td>Boston Daily Advertiser (Boston, MA)</td>\n",
       "      <td>13468</td>\n",
       "    </tr>\n",
       "  </tbody>\n",
       "</table>\n",
       "</div>"
      ],
      "text/plain": [
       "                               PublicationTitle  NumArticles\n",
       "378     National Intelligencer (Washington, DC)        19495\n",
       "329           North American (Philadelphia, PA)        19371\n",
       "330    Milwaukee Daily Sentinel (Milwaukee, WI)        17466\n",
       "54   Bangor Daily Whig and Courier (Bangor, ME)        15794\n",
       "394        Boston Daily Advertiser (Boston, MA)        13468"
      ]
     },
     "execution_count": 2,
     "metadata": {},
     "output_type": "execute_result"
    }
   ],
   "source": [
    "publications = set(df[\"PublicationTitle\"])\n",
    "# print(len(publications))\n",
    "pubs = []\n",
    "\n",
    "for pub in publications:\n",
    "  pubs.append([pub, len(df[df[\"PublicationTitle\"] == pub])])\n",
    "\n",
    "pubsDF = pd.DataFrame(pubs, columns=[\"PublicationTitle\", \"NumArticles\"])\n",
    "pubsDF = pubsDF.sort_values(\"NumArticles\", ascending=False).head(10)\n",
    "# pubsDF.to_csv(\"publications.csv\")\n",
    "pubsDF\n"
   ]
  },
  {
   "cell_type": "code",
   "execution_count": 19,
   "metadata": {},
   "outputs": [
    {
     "data": {
      "text/html": [
       "<div>\n",
       "<style scoped>\n",
       "    .dataframe tbody tr th:only-of-type {\n",
       "        vertical-align: middle;\n",
       "    }\n",
       "\n",
       "    .dataframe tbody tr th {\n",
       "        vertical-align: top;\n",
       "    }\n",
       "\n",
       "    .dataframe thead th {\n",
       "        text-align: right;\n",
       "    }\n",
       "</style>\n",
       "<table border=\"1\" class=\"dataframe\">\n",
       "  <thead>\n",
       "    <tr style=\"text-align: right;\">\n",
       "      <th></th>\n",
       "      <th>PublicationTitle</th>\n",
       "      <th>IssueDate</th>\n",
       "      <th>ImageLocation</th>\n",
       "      <th>DataLocation</th>\n",
       "      <th>Filename</th>\n",
       "    </tr>\n",
       "  </thead>\n",
       "  <tbody>\n",
       "    <tr>\n",
       "      <th>0</th>\n",
       "      <td>Arkansas State Gazette (Little Rock, AR)</td>\n",
       "      <td>NaN</td>\n",
       "      <td>NaN</td>\n",
       "      <td>\\19thCenturyUSNewspapers_01\\XML\\NEWSPAPERS\\5AHK\\</td>\n",
       "      <td>5AHK_PublicationMetadata.xml</td>\n",
       "    </tr>\n",
       "    <tr>\n",
       "      <th>1</th>\n",
       "      <td>Arkansas State Gazette (Little Rock, AR)</td>\n",
       "      <td>October 11, 1836</td>\n",
       "      <td>\\19thCenturyUSNewspapers_02\\Images\\NEWSPAPERS\\...</td>\n",
       "      <td>\\19thCenturyUSNewspapers_01\\XML\\NEWSPAPERS\\5AH...</td>\n",
       "      <td>5AHK-1836-OCT11_Issue.xml</td>\n",
       "    </tr>\n",
       "    <tr>\n",
       "      <th>2</th>\n",
       "      <td>Arkansas State Gazette (Little Rock, AR)</td>\n",
       "      <td>October 18, 1836</td>\n",
       "      <td>\\19thCenturyUSNewspapers_02\\Images\\NEWSPAPERS\\...</td>\n",
       "      <td>\\19thCenturyUSNewspapers_01\\XML\\NEWSPAPERS\\5AH...</td>\n",
       "      <td>5AHK-1836-OCT18_Issue.xml</td>\n",
       "    </tr>\n",
       "    <tr>\n",
       "      <th>3</th>\n",
       "      <td>Arkansas State Gazette (Little Rock, AR)</td>\n",
       "      <td>October 25, 1836</td>\n",
       "      <td>\\19thCenturyUSNewspapers_02\\Images\\NEWSPAPERS\\...</td>\n",
       "      <td>\\19thCenturyUSNewspapers_01\\XML\\NEWSPAPERS\\5AH...</td>\n",
       "      <td>5AHK-1836-OCT25_Issue.xml</td>\n",
       "    </tr>\n",
       "    <tr>\n",
       "      <th>4</th>\n",
       "      <td>Arkansas State Gazette (Little Rock, AR)</td>\n",
       "      <td>November 01, 1836</td>\n",
       "      <td>\\19thCenturyUSNewspapers_02\\Images\\NEWSPAPERS\\...</td>\n",
       "      <td>\\19thCenturyUSNewspapers_01\\XML\\NEWSPAPERS\\5AH...</td>\n",
       "      <td>5AHK-1836-NOV01_Issue.xml</td>\n",
       "    </tr>\n",
       "  </tbody>\n",
       "</table>\n",
       "</div>"
      ],
      "text/plain": [
       "                           PublicationTitle          IssueDate  \\\n",
       "0  Arkansas State Gazette (Little Rock, AR)                NaN   \n",
       "1  Arkansas State Gazette (Little Rock, AR)   October 11, 1836   \n",
       "2  Arkansas State Gazette (Little Rock, AR)   October 18, 1836   \n",
       "3  Arkansas State Gazette (Little Rock, AR)   October 25, 1836   \n",
       "4  Arkansas State Gazette (Little Rock, AR)  November 01, 1836   \n",
       "\n",
       "                                       ImageLocation  \\\n",
       "0                                                NaN   \n",
       "1  \\19thCenturyUSNewspapers_02\\Images\\NEWSPAPERS\\...   \n",
       "2  \\19thCenturyUSNewspapers_02\\Images\\NEWSPAPERS\\...   \n",
       "3  \\19thCenturyUSNewspapers_02\\Images\\NEWSPAPERS\\...   \n",
       "4  \\19thCenturyUSNewspapers_02\\Images\\NEWSPAPERS\\...   \n",
       "\n",
       "                                        DataLocation  \\\n",
       "0   \\19thCenturyUSNewspapers_01\\XML\\NEWSPAPERS\\5AHK\\   \n",
       "1  \\19thCenturyUSNewspapers_01\\XML\\NEWSPAPERS\\5AH...   \n",
       "2  \\19thCenturyUSNewspapers_01\\XML\\NEWSPAPERS\\5AH...   \n",
       "3  \\19thCenturyUSNewspapers_01\\XML\\NEWSPAPERS\\5AH...   \n",
       "4  \\19thCenturyUSNewspapers_01\\XML\\NEWSPAPERS\\5AH...   \n",
       "\n",
       "                       Filename  \n",
       "0  5AHK_PublicationMetadata.xml  \n",
       "1     5AHK-1836-OCT11_Issue.xml  \n",
       "2     5AHK-1836-OCT18_Issue.xml  \n",
       "3     5AHK-1836-OCT25_Issue.xml  \n",
       "4     5AHK-1836-NOV01_Issue.xml  "
      ]
     },
     "execution_count": 19,
     "metadata": {},
     "output_type": "execute_result"
    }
   ],
   "source": [
    "# print((pubsDF[\"NumArticles\"] > 1500).sum())\n",
    "# pubsToUse = pubsDF[\"PublicationTitle\"].to_list()\n",
    "# articlesToUse = df.loc[df[\"PublicationTitle\"].isin(pubsDF[\"PublicationTitle\"])]\n",
    "# pubsDF[pubsDF[\"NumArticles\"] > 1500].min()\n",
    "# df.head()"
   ]
  },
  {
   "cell_type": "code",
   "execution_count": 55,
   "metadata": {},
   "outputs": [],
   "source": [
    "trainDF = pd.DataFrame()\n",
    "testDF = pd.DataFrame()\n",
    "for pub in pubsDF[\"PublicationTitle\"]:\n",
    "  # Append the first 1000 rows of given publication\n",
    "  trainDF = pd.concat([trainDF, df.loc[df[\"PublicationTitle\"] == pub][:1000]], ignore_index=True)\n",
    "  testDF = pd.concat([testDF, df.loc[df[\"PublicationTitle\"] == pub][1000:1500]], ignore_index=True)\n",
    "\n",
    "trainDF[\"Label\"] = \"training\"\n",
    "testDF[\"Label\"] = \"testing\"\n",
    "\n",
    "# len(trainDF)\n",
    "# len(testDF)\n",
    "# testDF.head()\n",
    "finalDF = pd.concat([trainDF, testDF], ignore_index=True)\n",
    "\n",
    "finalDF.to_csv(\"dataset.csv\")\n",
    "\n",
    "# len(finalDF)\n",
    "# len(set(finalDF[\"PublicationTitle\"]))\n",
    "# (finalDF[\"PublicationTitle\"] == 'Bangor Daily Whig and Courier (Bangor, ME)').sum()"
   ]
  },
  {
   "cell_type": "code",
   "execution_count": 3,
   "metadata": {},
   "outputs": [],
   "source": [
    "finalDF = pd.DataFrame()\n",
    "\n",
    "for pub in pubsDF[\"PublicationTitle\"]:\n",
    "  finalDF = pd.concat([finalDF, df[df[\"PublicationTitle\"] == pub][:1500]], ignore_index=True)\n",
    "finalDF[\"Location\"] = \"D:\" + finalDF[\"DataLocation\"] + finalDF[\"Filename\"].str.replace(\"Issue\", \"Text\", regex=True)\n",
    "finalDF[\"Location\"] = finalDF[\"Location\"].str.replace(\"\\\\\", \"/\", regex=True)\n",
    "finalDF[\"Location\"] = finalDF[\"Location\"].str.replace(\"19thCenturyUSNewspapers_01\", \"19cUSNewspapers_01\")\n",
    "finalDF.drop([\"IssueDate\", \"ImageLocation\", 'DataLocation', 'Filename'], axis=1, inplace=True)\n",
    "\n",
    "finalDF.head()\n",
    "finalDF.to_csv(\"articles.csv\")\n",
    "\n"
   ]
  },
  {
   "cell_type": "code",
   "execution_count": null,
   "metadata": {},
   "outputs": [],
   "source": []
  }
 ],
 "metadata": {
  "interpreter": {
   "hash": "cbe7476337e4e587666207709b98c1446da58a6092d9cb94dd6b5d6ac0d19724"
  },
  "kernelspec": {
   "display_name": "Python 3.10.0 64-bit",
   "language": "python",
   "name": "python3"
  },
  "language_info": {
   "codemirror_mode": {
    "name": "ipython",
    "version": 3
   },
   "file_extension": ".py",
   "mimetype": "text/x-python",
   "name": "python",
   "nbconvert_exporter": "python",
   "pygments_lexer": "ipython3",
   "version": "3.10.0"
  },
  "orig_nbformat": 4
 },
 "nbformat": 4,
 "nbformat_minor": 2
}
